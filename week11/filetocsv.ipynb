{
 "cells": [
  {
   "cell_type": "code",
   "execution_count": 1,
   "id": "bdf009d9",
   "metadata": {},
   "outputs": [
    {
     "name": "stdout",
     "output_type": "stream",
     "text": [
      "['twinkle', 'little', 'stars', 'how', 'i', 'wonder', 'what', 'you', 'are', 'up', 'above', 'the', 'world', 'so', 'high', 'like', 'a', 'diamond', 'in', 'cry', 'star']\n",
      "21\n",
      "[4, 2, 1, 2, 2, 2, 2, 2, 2, 1, 1, 2, 1, 1, 1, 1, 1, 1, 1, 1, 1]\n",
      "21\n",
      "DataFrame...\n",
      "    unique_word  no_of_times_it_appear\n",
      "0      twinkle                      4\n",
      "1       little                      2\n",
      "2        stars                      1\n",
      "3          how                      2\n",
      "4            i                      2\n",
      "5       wonder                      2\n",
      "6         what                      2\n",
      "7          you                      2\n",
      "8          are                      2\n",
      "9           up                      1\n",
      "10       above                      1\n",
      "11         the                      2\n",
      "12       world                      1\n",
      "13          so                      1\n",
      "14        high                      1\n",
      "15        like                      1\n",
      "16           a                      1\n",
      "17     diamond                      1\n",
      "18          in                      1\n",
      "19         cry                      1\n",
      "20        star                      1\n",
      "The output csv file written successfully and generated...\n"
     ]
    }
   ],
   "source": [
    "uniq_word = []\n",
    "uniq_no = []\n",
    "import string\n",
    "consonants = \"bcdfghjklmnpqrstvwxyz\"\n",
    "vowel = \"aeiou\"\n",
    "with open(\"C:/Users/zeu/Documents/Exam_First/exam.txt\") as txt:\n",
    "    text = txt.read()\n",
    "from string import punctuation\n",
    "text = text.lower()\n",
    "for char in punctuation:\n",
    "    text = text.replace(char, '')\n",
    "words = text.split()\n",
    "# print(words)\n",
    "\n",
    "for i in words:\n",
    "    if i not in uniq_word:\n",
    "        uniq_word.append(i)\n",
    "for k in range(len(uniq_word)):\n",
    "        l = words.count(uniq_word[k])\n",
    "        uniq_no.append(l)\n",
    "#         print(uniq_word[k], \":\",  l)\n",
    "print(uniq_word)\n",
    "print(len(uniq_word))\n",
    "print(uniq_no)\n",
    "print(len(uniq_no))\n",
    "\n",
    "import pandas as pd\n",
    "d = {\"unique_word\" : uniq_word, \"no_of_times_it_appear\": uniq_no}\n",
    "\n",
    "dataFrame = pd.DataFrame(d)\n",
    "print(\"DataFrame...\\n\",dataFrame)\n",
    "\n",
    "dataFrame.to_csv(\"C:/Users/zeu/Documents/Exam_First/exam.csv\")\n",
    "\n",
    "print(\"The output csv file written successfully and generated...\")\n",
    "\n"
   ]
  }
 ],
 "metadata": {
  "kernelspec": {
   "display_name": "Python 3.10.6 64-bit (windows store)",
   "language": "python",
   "name": "python3"
  },
  "language_info": {
   "codemirror_mode": {
    "name": "ipython",
    "version": 3
   },
   "file_extension": ".py",
   "mimetype": "text/x-python",
   "name": "python",
   "nbconvert_exporter": "python",
   "pygments_lexer": "ipython3",
   "version": "3.10.6"
  },
  "vscode": {
   "interpreter": {
    "hash": "53436875762d8e3059292ea46059a427319ea609ea49e604f8da24427d36c3b9"
   }
  }
 },
 "nbformat": 4,
 "nbformat_minor": 5
}
